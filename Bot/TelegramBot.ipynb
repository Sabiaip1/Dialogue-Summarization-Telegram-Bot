{
  "nbformat": 4,
  "nbformat_minor": 0,
  "metadata": {
    "colab": {
      "provenance": []
    },
    "kernelspec": {
      "name": "python3",
      "display_name": "Python 3"
    },
    "language_info": {
      "name": "python"
    }
  },
  "cells": [
    {
      "cell_type": "code",
      "execution_count": null,
      "metadata": {
        "collapsed": true,
        "id": "50xtxAlFlZ9p"
      },
      "outputs": [],
      "source": [
        "# Установка библиотеки aiogram версии 2.23.1\n",
        "!pip install --force-reinstall -v \"aiogram==2.23.1\""
      ]
    },
    {
      "cell_type": "code",
      "source": [
        "# Установка необходимых библиотек\n",
        "import nest_asyncio\n",
        "nest_asyncio.apply()\n",
        "\n",
        "from transformers import AutoModelForSeq2SeqLM, AutoTokenizer\n",
        "import torch\n",
        "\n",
        "import logging\n",
        "import aiogram\n",
        "from aiogram import Bot, Dispatcher, types\n",
        "from aiogram.utils import executor\n",
        "\n",
        "from aiogram.types import Message\n",
        "from aiogram.utils.markdown import hbold\n",
        "\n",
        "from aiogram.types import ReplyKeyboardMarkup, KeyboardButton, InlineKeyboardMarkup, InlineKeyboardButton\n",
        "\n",
        "import zipfile\n",
        "import os\n",
        "\n",
        "from google.colab import files\n",
        "from google.colab import drive\n",
        "drive.mount('/content/gdrive')"
      ],
      "metadata": {
        "colab": {
          "base_uri": "https://localhost:8080/"
        },
        "id": "qtS49lDKlbOY",
        "outputId": "54f2f2cf-ab8c-4bdc-e119-16fd20fc5da3"
      },
      "execution_count": 1,
      "outputs": [
        {
          "output_type": "stream",
          "name": "stdout",
          "text": [
            "Drive already mounted at /content/gdrive; to attempt to forcibly remount, call drive.mount(\"/content/gdrive\", force_remount=True).\n"
          ]
        }
      ]
    },
    {
      "cell_type": "code",
      "source": [
        "# Загрузка первой модели и токенизатора\n",
        "model_bart = AutoModelForSeq2SeqLM.from_pretrained(\"/content/gdrive/MyDrive/bartbase\")\n",
        "tokenizer_bart = AutoTokenizer.from_pretrained(\"/content/gdrive/MyDrive/bartbase\")"
      ],
      "metadata": {
        "colab": {
          "base_uri": "https://localhost:8080/"
        },
        "id": "0zh906dolhhH",
        "outputId": "367e4aa1-6c0c-412d-9eab-140529d1a429"
      },
      "execution_count": 2,
      "outputs": [
        {
          "output_type": "stream",
          "name": "stderr",
          "text": [
            "/usr/local/lib/python3.10/dist-packages/transformers/tokenization_utils_base.py:1601: FutureWarning: `clean_up_tokenization_spaces` was not set. It will be set to `True` by default. This behavior will be depracted in transformers v4.45, and will be then set to `False` by default. For more details check this issue: https://github.com/huggingface/transformers/issues/31884\n",
            "  warnings.warn(\n"
          ]
        }
      ]
    },
    {
      "cell_type": "code",
      "source": [
        "# Загрузка файла второй модели\n",
        "#uploaded_model = files.upload()\n",
        "# Получаем путь к загруженному файлу\n",
        "#model_zip_path = next(iter(uploaded_model))\n",
        "\n",
        "# Загрузка файла токенизатора\n",
        "#uploaded_tokenizer = files.upload()\n",
        "# Получаем путь к загруженному файлу\n",
        "#tokenizer_zip_path = next(iter(uploaded_tokenizer))\n",
        "\n",
        "# Распаковка zip-файла с моделью\n",
        "#with zipfile.ZipFile(model_zip_path, 'r') as model_zip:\n",
        "    #model_zip.extractall(\"/content/model/\")\n",
        "\n",
        "# Распаковка zip-файла с токенизатором\n",
        "#with zipfile.ZipFile(tokenizer_zip_path, 'r') as tokenizer_zip:\n",
        "    #tokenizer_zip.extractall(\"/content/tokenizer/\")\n",
        "\n",
        "# Путь к модели\n",
        "#model_path = \"/content/model/my_model\"\n",
        "# Загрузка модели\n",
        "#model = AutoModelForSeq2SeqLM.from_pretrained(model_path)\n",
        "\n",
        "# Путь к токенизатору\n",
        "#tokenizer_path = \"/content/tokenizer/my_tokenizer\"\n",
        "# Загрузка токенизатора\n",
        "#tokenizer = AutoTokenizer.from_pretrained(tokenizer_path)"
      ],
      "metadata": {
        "id": "5dH8XFIulmg3"
      },
      "execution_count": 3,
      "outputs": []
    },
    {
      "cell_type": "code",
      "source": [
        "# Включаем логирование\n",
        "logging.basicConfig(level=logging.INFO)\n",
        "\n",
        "# Инициализация бота\n",
        "TOKEN = 'ТОКЕН'\n",
        "bot = Bot(token=TOKEN)\n",
        "dp = Dispatcher(bot)"
      ],
      "metadata": {
        "id": "SM3_nDy5lmqV"
      },
      "execution_count": 4,
      "outputs": []
    },
    {
      "cell_type": "code",
      "source": [
        "# Словарь для хранения диалога пользователя\n",
        "dialogue_history = {}\n",
        "\n",
        "# Функция для обрезки истории диалога\n",
        "def trim_history(history, max_length=4096):\n",
        "    current_length = sum(len(message) for message in history.values())\n",
        "    while history and current_length > max_length:\n",
        "        removed_message = history.popitem(last=False)\n",
        "        current_length -= len(removed_message[1])\n",
        "    return history"
      ],
      "metadata": {
        "id": "7i30GkWclmwc"
      },
      "execution_count": 5,
      "outputs": []
    },
    {
      "cell_type": "code",
      "source": [
        "# Обработчик команды /start\n",
        "@dp.message_handler(commands=['start'])\n",
        "async def start_command(message: types.Message):\n",
        "    # Создаем клавиатуру с кнопками для выбора языка\n",
        "    markup = types.ReplyKeyboardMarkup(resize_keyboard=True)\n",
        "    btn1 = types.KeyboardButton(\"🇷🇺 Русский\")\n",
        "    btn2 = types.KeyboardButton(\"🇬🇧 English\")\n",
        "    markup.add(btn1, btn2)\n",
        "    # Отправляем сообщение с клавиатурой\n",
        "    await message.answer(\"Привет!👋 Я умею кратко пересказывать длинные диалоги.\\n\\n Выберите язык\", reply_markup=markup)\n",
        "\n",
        "@dp.message_handler(lambda message: message.text in [\"🇷🇺 Русский\", \"🇬🇧 English\"])\n",
        "async def language_selected(message: types.Message):\n",
        "    # Получаем выбранный язык\n",
        "    selected_language = message.text.split(\" \")[1]\n",
        "    # Выполняем действия в зависимости от выбранного языка\n",
        "    if selected_language == \"Русский\":\n",
        "        # Обработка выбора русского языка\n",
        "        await message.answer(\"Язык изменен на 🇷🇺\")\n",
        "    elif selected_language == \"English\":\n",
        "        # Обработка выбора английского языка\n",
        "        await message.answer(\"Language changed to 🇬🇧\")"
      ],
      "metadata": {
        "id": "gAmOyGCnlm2H"
      },
      "execution_count": 6,
      "outputs": []
    },
    {
      "cell_type": "code",
      "source": [
        "# Обработчик команды /help\n",
        "@dp.message_handler(commands=['help'])\n",
        "async def help_command(message: types.Message):\n",
        "    # Выводим список доступных команд\n",
        "    help_text = \"Доступные команды:\\n\\n\"\n",
        "    help_text += \"/model - выбор модели для суммаризации \\n\"\n",
        "    help_text += \"/checkmodel - посмотреть название загруженной модели\\n\"\n",
        "    help_text += \"/clear - очистка истории\\n\"\n",
        "    help_text += \"/help - вывести список доступных команд\\n\"\n",
        "    await message.answer(help_text)"
      ],
      "metadata": {
        "id": "y8bnfBnxmOD4"
      },
      "execution_count": 7,
      "outputs": []
    },
    {
      "cell_type": "code",
      "source": [
        "# Переменная для хранения текущей модели\n",
        "current_model = model_bart\n",
        "current_tokenizer = tokenizer_bart\n",
        "\n",
        "# Обработчик команды /model\n",
        "@dp.message_handler(commands=['model'])\n",
        "async def model_command(message: types.Message):\n",
        "    # Создаем клавиатуру с выбором моделей\n",
        "    markup = types.InlineKeyboardMarkup()\n",
        "    btn1 = types.InlineKeyboardButton(\"bart-base\", callback_data='model_bart')\n",
        "    btn2 = types.InlineKeyboardButton(\"flan-t5-base\", callback_data='model')\n",
        "    markup.add(btn1, btn2)\n",
        "    await message.answer(\"Выберите модель для суммаризации:\", reply_markup=markup)\n",
        "\n",
        "# Обработчик выбора модели через инлайн-кнопки\n",
        "@dp.callback_query_handler(lambda c: c.data in ['model_bart', 'model'])\n",
        "async def process_model_selection(callback_query: types.CallbackQuery):\n",
        "    global current_model, current_tokenizer\n",
        "    # Обрабатываем выбор модели\n",
        "    if callback_query.data == 'model_bart':\n",
        "        # Загружаем модель 1\n",
        "        current_model = model_bart\n",
        "        current_tokenizer = tokenizer_bart\n",
        "        await callback_query.answer(\"Модель BART выбрана\")\n",
        "    elif callback_query.data == 'model':\n",
        "        # Загружаем модель 2\n",
        "        current_model = model\n",
        "        current_tokenizer = tokenizer\n",
        "        await callback_query.answer(\"Модель T5 выбрана\")\n",
        "\n",
        "# Обработчик команды /checkmodel, который выводит текущую модель\n",
        "@dp.message_handler(commands=['checkmodel'])\n",
        "async def checkmodel_command(message: types.Message):\n",
        "    # Получаем название текущей модели\n",
        "    if current_model == model_bart:\n",
        "        current_model_name = \"bart-base\"\n",
        "    else:\n",
        "        current_model_name = \"flan-t5-base\"\n",
        "    await message.answer(f\"Текущая модель: {current_model_name}\")"
      ],
      "metadata": {
        "id": "bURc0YzLmOKF"
      },
      "execution_count": 8,
      "outputs": []
    },
    {
      "cell_type": "code",
      "source": [
        "# Обработчик команды /clear\n",
        "@dp.message_handler(commands=['clear'])\n",
        "async def process_clear_command(message: types.Message):\n",
        "    user_id = message.from_user.id\n",
        "    dialogue_history[user_id] = []\n",
        "    await message.reply(\"История очищена.\")"
      ],
      "metadata": {
        "id": "8ToRZ4fHmOOg"
      },
      "execution_count": 9,
      "outputs": []
    },
    {
      "cell_type": "code",
      "source": [
        "# Обработчик всех остальных сообщений, который выполняет суммаризацию\n",
        "@dp.message_handler()\n",
        "async def summarize_handler(message: types.Message) -> None:\n",
        "    \"\"\"\n",
        "    Handler that summarizes the received message using a pre-trained model\n",
        "    \"\"\"\n",
        "    try:\n",
        "        user_input = message.text\n",
        "        # Проверяем, что текст сообщения не содержит непонятных знаков\n",
        "        if not all(ord(char) < 128 for char in user_input):\n",
        "            await message.answer(\"Извините, я Вас не понимаю.\")\n",
        "            return\n",
        "        # Добавляем сообщение в историю диалога\n",
        "        dialogue_history[len(dialogue_history) + 1] = user_input\n",
        "        # Генерируем краткий пересказ\n",
        "        input_ids = current_tokenizer.encode(user_input, return_tensors='pt')\n",
        "        output_ids = current_model.generate(input_ids, max_length=200, num_return_sequences=1, early_stopping=True)\n",
        "        summary = current_tokenizer.decode(output_ids[0], skip_special_tokens=True)\n",
        "        # Проверяем, что сводка не пустая перед отправкой\n",
        "        if summary:\n",
        "            # Отправляем пересказ пользователю\n",
        "            await message.answer(f\"Summary: {summary}\")\n",
        "        else:\n",
        "            raise ValueError(\"Сводная информация не была получена.\")\n",
        "    except Exception as e:\n",
        "        logging.error(f\"Ошибка в summarize_handler: {e}\")\n",
        "        await message.answer(\"Извините, произошла ошибка.\")\n",
        "\n",
        "# Основная функция для запуска бота\n",
        "def main() -> None:\n",
        "    executor.start_polling(dp, skip_updates=True)\n",
        "\n",
        "if __name__ == \"__main__\":\n",
        "    main()"
      ],
      "metadata": {
        "colab": {
          "base_uri": "https://localhost:8080/"
        },
        "id": "lB1Z2lmBmb6u",
        "outputId": "272f06fe-412d-404c-f39a-cea52b8bcb3f"
      },
      "execution_count": 10,
      "outputs": [
        {
          "output_type": "stream",
          "name": "stderr",
          "text": [
            "WARNING:aiogram:Updates were skipped successfully.\n",
            "WARNING:aiogram:Goodbye!\n"
          ]
        }
      ]
    }
  ]
}